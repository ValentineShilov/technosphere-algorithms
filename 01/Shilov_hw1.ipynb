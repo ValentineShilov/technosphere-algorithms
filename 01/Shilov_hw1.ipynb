{
 "cells": [
  {
   "cell_type": "markdown",
   "metadata": {},
   "source": [
    "**Valentine Shilov**\n",
    "\n",
    "**Общая информация**\n",
    "\n",
    "**Срок сдачи:** 20 марта 2019, 06:00 <br\\>\n",
    "**Штраф за опоздание:** -1 балл после 06:00 20 марта, -2 балла после 06:00 27 марта, -3 балла после 06:00 3 апреля\n",
    "-4 балла после 06:00 10 апреля\n",
    "\n",
    "При отправлении ДЗ указывайте фамилию в названии файла\n",
    "Присылать ДЗ необходимо в виде ссылки на свой github репозиторий в slack @alkhamush\n",
    "\n",
    "Необходимо в slack скинуть ссылку в личный чат @alkhamush\n",
    "Пример ссылки:\n",
    "https://github.com/stroykova/spheremailru/stroykova_hw1.ipynb \n",
    "\n",
    "\n",
    "Используйте данный Ipython Notebook при оформлении домашнего задания."
   ]
  },
  {
   "cell_type": "markdown",
   "metadata": {},
   "source": [
    "##### Задание 1 (2 баллов)\n",
    "Реализовать KNN в классе MyKNeighborsClassifier (обязательное условие: точность не ниже sklearn реализации)\n",
    "Разберитесь самостоятельно, какая мера расстояния используется в KNeighborsClassifier дефолтно и реализуйте свой алгоритм именно с этой мерой. Самостоятельно разберитесь, как считается score из KNeighborsClassifier и реализуйте аналог в своём классе. Score не должен уступать значению KNN из sklearn\n",
    "\n",
    "###### Задание 2 (2 балла)\n",
    "Добиться скорости работы на fit,  predict и predict_proba сравнимой со sklearn для iris и mnist\n",
    "Для этого используем numpy\n",
    "\n",
    "###### Задание 3 (2 балла)\n",
    "Для iris найдите такой параметр n_neighbors, при котором выдаётся наилучший score. Нарисуйте график зависимости score от n_neighbors\n",
    "\n",
    "###### Задание 4 (3 балла)\n",
    "Добавить algorithm='kd_tree' в реализацию KNN (использовать KDTree из sklearn.neighbors). Добиться скорости работы на fit,  predict и predict_proba сравнимой со sklearn для iris и mnist\n",
    "Для этого используем numpy. Score не должен уступать значению KNN из sklearn\n",
    "\n",
    "###### Задание 5 (1 балла)\n",
    "Описать для чего нужны следующие библиотеки/классы/функции (список будет ниже)\n",
    "\n",
    "**Штрафные баллы:**\n",
    "\n",
    "1. Невыполнение PEP8 -0.5 баллов\n",
    "2. Отсутствие фамилии в имени скрипта (скрипт должен называться по аналогии со stroykova_hw1.ipynb) -0.5 баллов\n",
    "3. Все строчки должны быть выполнены. Нужно, чтобы output команды можно было увидеть уже в git'е. В противном случае -0.5 баллов\n",
    "4. При оформлении ДЗ нужно пользоваться данным файлом в качестве шаблона. Не нужно удалять и видоизменять структуру кода и текст. В противном случае -0.5 баллов\n"
   ]
  },
  {
   "cell_type": "code",
   "execution_count": 1,
   "metadata": {},
   "outputs": [],
   "source": [
    "import numpy as np\n",
    "import matplotlib.pyplot as plt\n",
    "\n",
    "import seaborn as sns\n",
    "from sklearn import datasets\n",
    "from sklearn.base import ClassifierMixin\n",
    "from sklearn.datasets import fetch_mldata\n",
    "from sklearn.datasets import fetch_openml\n",
    "from sklearn.neighbors.base import NeighborsBase, KNeighborsMixin, SupervisedIntegerMixin \n",
    "from sklearn.model_selection import train_test_split\n",
    "from sklearn.neighbors import KNeighborsClassifier\n",
    "\n",
    "from sklearn.metrics.pairwise import pairwise_distances\n",
    "\n",
    "from scipy.spatial import distance\n",
    "from scipy.spatial.distance import pdist\n",
    "\n",
    "from scipy.spatial import KDTree\n",
    "from sklearn.neighbors import BallTree\n",
    "%load_ext pycodestyle_magic"
   ]
  },
  {
   "cell_type": "code",
   "execution_count": 2,
   "metadata": {},
   "outputs": [],
   "source": [
    "#%%pycodestyle\n",
    "\n",
    "\n",
    "class MyKNeighborsClassifier(NeighborsBase, KNeighborsMixin,\n",
    "                             SupervisedIntegerMixin, ClassifierMixin):\n",
    "\n",
    "    def __init__(self, n_neighbors, algorithm='brute'):\n",
    "        self.n_neighbors = n_neighbors\n",
    "        self.algorithm = algorithm\n",
    "\n",
    "    def fit(self, X, y):\n",
    "\n",
    "        self.X = np.asarray(X, dtype=np.float)\n",
    "        self.y = np.asarray(y, dtype=np.int)\n",
    "\n",
    "        # get classes\n",
    "\n",
    "        (self.classes, self.y_ind) = np.unique(y, return_inverse=True)\n",
    "        if self.algorithm == 'kd_tree':\n",
    "\n",
    "            self.tree = KDTree(X)\n",
    "\n",
    "            # self.tree = BallTree(X)\n",
    "\n",
    "    def nn(self, dists):\n",
    "\n",
    "        # gets nearest neighbours for each x\n",
    "        # sort by distance and get indexes of nearest point to each i\n",
    "        # si = np.argsort(dists, axis=0)\n",
    "\n",
    "        si = dists.argpartition(self.n_neighbors, axis=0)\n",
    "        return si[0:self.n_neighbors, :]\n",
    "\n",
    "    def pc(self, dists):\n",
    "\n",
    "        # predicts class for each x\n",
    "\n",
    "        return self.classes[self.y_ind[self.nn(dists)]].T\n",
    "\n",
    "    def predict(self, X):\n",
    "        proba = self.predict_proba(X)\n",
    "        mi = np.argmax(proba, axis=1)\n",
    "        return self.classes[mi].reshape(-1)\n",
    "\n",
    "    def predict_proba(self, X):\n",
    "        if self.algorithm == 'brute':\n",
    "            X = np.asarray(X, dtype=np.float)\n",
    "            dist = pairwise_distances(self.X, X)  # , metric = 'minkowski').T\n",
    "            pred_cl = self.pc(dist)\n",
    "        elif self.algorithm == 'kd_tree':\n",
    "            (dist, nb) = self.tree.query(X, k=self.n_neighbors)\n",
    "            pred_cl = self.classes[self.y_ind[nb]]\n",
    "\n",
    "        (rows, cols) = (pred_cl.shape[0], self.classes.shape[0])\n",
    "\n",
    "        cnt = np.zeros((rows, cols), dtype=int)\n",
    "\n",
    "        def f(row):\n",
    "            cnt = np.zeros(cols, dtype=int)\n",
    "            (u, c) = np.unique(row, return_counts=1)\n",
    "            cnt[u.astype(np.int)] = c\n",
    "            return cnt\n",
    "\n",
    "        def g(row):\n",
    "            cnt = np.bincount(row.astype(int), minlength=cols)\n",
    "            return cnt\n",
    "\n",
    "        cnt = np.apply_along_axis(g, axis=1, arr=pred_cl)\n",
    "        proba = cnt / self.n_neighbors\n",
    "        return proba\n",
    "\n",
    "    def score(self, X, y):\n",
    "        nz = np.count_nonzero(y.astype(int)\n",
    "                              - self.predict(X).astype(int))\n",
    "        sc = 1 - float(nz) / y.shape[0]\n",
    "        return sc"
   ]
  },
  {
   "cell_type": "markdown",
   "metadata": {},
   "source": [
    "**IRIS**"
   ]
  },
  {
   "cell_type": "code",
   "execution_count": 3,
   "metadata": {},
   "outputs": [],
   "source": [
    "iris = datasets.load_iris()"
   ]
  },
  {
   "cell_type": "code",
   "execution_count": 4,
   "metadata": {},
   "outputs": [],
   "source": [
    "X_train, X_test, y_train, y_test = train_test_split(iris.data, iris.target, test_size=0.1, stratify=iris.target)"
   ]
  },
  {
   "cell_type": "code",
   "execution_count": 5,
   "metadata": {},
   "outputs": [],
   "source": [
    "clf = KNeighborsClassifier(n_neighbors=2, algorithm='brute')\n",
    "my_clf = MyKNeighborsClassifier(n_neighbors=2, algorithm='brute')"
   ]
  },
  {
   "cell_type": "code",
   "execution_count": 6,
   "metadata": {},
   "outputs": [
    {
     "name": "stdout",
     "output_type": "stream",
     "text": [
      "CPU times: user 0 ns, sys: 0 ns, total: 0 ns\n",
      "Wall time: 987 µs\n"
     ]
    },
    {
     "data": {
      "text/plain": [
       "KNeighborsClassifier(algorithm='brute', leaf_size=30, metric='minkowski',\n",
       "           metric_params=None, n_jobs=None, n_neighbors=2, p=2,\n",
       "           weights='uniform')"
      ]
     },
     "execution_count": 6,
     "metadata": {},
     "output_type": "execute_result"
    }
   ],
   "source": [
    "%time clf.fit(X_train, y_train)"
   ]
  },
  {
   "cell_type": "code",
   "execution_count": 7,
   "metadata": {},
   "outputs": [
    {
     "name": "stdout",
     "output_type": "stream",
     "text": [
      "CPU times: user 0 ns, sys: 0 ns, total: 0 ns\n",
      "Wall time: 476 µs\n"
     ]
    }
   ],
   "source": [
    "%time my_clf.fit(X_train, y_train)"
   ]
  },
  {
   "cell_type": "code",
   "execution_count": 8,
   "metadata": {},
   "outputs": [
    {
     "name": "stdout",
     "output_type": "stream",
     "text": [
      "CPU times: user 4 ms, sys: 0 ns, total: 4 ms\n",
      "Wall time: 19.8 ms\n"
     ]
    },
    {
     "data": {
      "text/plain": [
       "array([1, 0, 0, 1, 2, 1, 2, 1, 1, 2, 0, 2, 0, 0, 1])"
      ]
     },
     "execution_count": 8,
     "metadata": {},
     "output_type": "execute_result"
    }
   ],
   "source": [
    "%time clf.predict(X_test)"
   ]
  },
  {
   "cell_type": "code",
   "execution_count": 9,
   "metadata": {},
   "outputs": [
    {
     "name": "stdout",
     "output_type": "stream",
     "text": [
      "CPU times: user 0 ns, sys: 0 ns, total: 0 ns\n",
      "Wall time: 1.74 ms\n"
     ]
    },
    {
     "data": {
      "text/plain": [
       "array([1, 0, 0, 1, 2, 1, 2, 1, 1, 2, 0, 2, 0, 0, 1])"
      ]
     },
     "execution_count": 9,
     "metadata": {},
     "output_type": "execute_result"
    }
   ],
   "source": [
    "%time my_clf.predict(X_test)"
   ]
  },
  {
   "cell_type": "code",
   "execution_count": 10,
   "metadata": {},
   "outputs": [
    {
     "name": "stdout",
     "output_type": "stream",
     "text": [
      "CPU times: user 4 ms, sys: 0 ns, total: 4 ms\n",
      "Wall time: 2.27 ms\n"
     ]
    },
    {
     "data": {
      "text/plain": [
       "array([[0. , 1. , 0. ],\n",
       "       [1. , 0. , 0. ],\n",
       "       [1. , 0. , 0. ],\n",
       "       [0. , 1. , 0. ],\n",
       "       [0. , 0. , 1. ],\n",
       "       [0. , 0.5, 0.5],\n",
       "       [0. , 0. , 1. ],\n",
       "       [0. , 1. , 0. ],\n",
       "       [0. , 1. , 0. ],\n",
       "       [0. , 0. , 1. ],\n",
       "       [1. , 0. , 0. ],\n",
       "       [0. , 0. , 1. ],\n",
       "       [1. , 0. , 0. ],\n",
       "       [1. , 0. , 0. ],\n",
       "       [0. , 1. , 0. ]])"
      ]
     },
     "execution_count": 10,
     "metadata": {},
     "output_type": "execute_result"
    }
   ],
   "source": [
    "%time clf.predict_proba(X_test)"
   ]
  },
  {
   "cell_type": "code",
   "execution_count": 11,
   "metadata": {},
   "outputs": [
    {
     "name": "stdout",
     "output_type": "stream",
     "text": [
      "CPU times: user 4 ms, sys: 0 ns, total: 4 ms\n",
      "Wall time: 2.19 ms\n"
     ]
    },
    {
     "data": {
      "text/plain": [
       "array([[0. , 1. , 0. ],\n",
       "       [1. , 0. , 0. ],\n",
       "       [1. , 0. , 0. ],\n",
       "       [0. , 1. , 0. ],\n",
       "       [0. , 0. , 1. ],\n",
       "       [0. , 0.5, 0.5],\n",
       "       [0. , 0. , 1. ],\n",
       "       [0. , 1. , 0. ],\n",
       "       [0. , 1. , 0. ],\n",
       "       [0. , 0. , 1. ],\n",
       "       [1. , 0. , 0. ],\n",
       "       [0. , 0. , 1. ],\n",
       "       [1. , 0. , 0. ],\n",
       "       [1. , 0. , 0. ],\n",
       "       [0. , 1. , 0. ]])"
      ]
     },
     "execution_count": 11,
     "metadata": {},
     "output_type": "execute_result"
    }
   ],
   "source": [
    "%time my_clf.predict_proba(X_test)"
   ]
  },
  {
   "cell_type": "code",
   "execution_count": 12,
   "metadata": {},
   "outputs": [
    {
     "data": {
      "text/plain": [
       "0.9333333333333333"
      ]
     },
     "execution_count": 12,
     "metadata": {},
     "output_type": "execute_result"
    }
   ],
   "source": [
    "clf.score(X_test, y_test)"
   ]
  },
  {
   "cell_type": "code",
   "execution_count": 13,
   "metadata": {},
   "outputs": [
    {
     "data": {
      "text/plain": [
       "0.9333333333333333"
      ]
     },
     "execution_count": 13,
     "metadata": {},
     "output_type": "execute_result"
    }
   ],
   "source": [
    "my_clf.score(X_test, y_test)"
   ]
  },
  {
   "cell_type": "code",
   "execution_count": 14,
   "metadata": {},
   "outputs": [
    {
     "data": {
      "text/plain": [
       "array([1, 0, 0, 1, 2, 1, 2, 1, 1, 2, 0, 2, 0, 0, 1])"
      ]
     },
     "execution_count": 14,
     "metadata": {},
     "output_type": "execute_result"
    }
   ],
   "source": [
    "clf.predict(X_test)\n"
   ]
  },
  {
   "cell_type": "code",
   "execution_count": 15,
   "metadata": {},
   "outputs": [
    {
     "data": {
      "text/plain": [
       "array([1, 0, 0, 1, 2, 1, 2, 1, 1, 2, 0, 2, 0, 0, 1])"
      ]
     },
     "execution_count": 15,
     "metadata": {},
     "output_type": "execute_result"
    }
   ],
   "source": [
    "my_clf.predict(X_test)"
   ]
  },
  {
   "cell_type": "markdown",
   "metadata": {},
   "source": [
    "Задание 3"
   ]
  },
  {
   "cell_type": "code",
   "execution_count": 16,
   "metadata": {},
   "outputs": [
    {
     "name": "stdout",
     "output_type": "stream",
     "text": [
      "10\n"
     ]
    }
   ],
   "source": [
    "sc = []\n",
    "n = X_test.shape[0]\n",
    "for i in range(1, n):\n",
    "    my_clf = MyKNeighborsClassifier(n_neighbors = i)\n",
    "    my_clf.fit(X_train, y_train)\n",
    "    #my_clf.predict(X_test)\n",
    "    sc.append(my_clf.score(X_test, y_test))\n",
    "print(np.argmax(sc) + 1)\n",
    "#sc"
   ]
  },
  {
   "cell_type": "code",
   "execution_count": 17,
   "metadata": {},
   "outputs": [
    {
     "data": {
      "text/plain": [
       "[<matplotlib.lines.Line2D at 0x7f32757c2390>]"
      ]
     },
     "execution_count": 17,
     "metadata": {},
     "output_type": "execute_result"
    },
    {
     "data": {
      "image/png": "[encoded data removed]",
      "text/plain": [
       "<Figure size 432x288 with 1 Axes>"
      ]
     },
     "metadata": {
      "needs_background": "light"
     },
     "output_type": "display_data"
    }
   ],
   "source": [
    "plt.plot(np.arange(2, n), sc)"
   ]
  },
  {
   "cell_type": "markdown",
   "metadata": {},
   "source": [
    "**MNIST**"
   ]
  },
  {
   "cell_type": "code",
   "execution_count": 18,
   "metadata": {},
   "outputs": [],
   "source": [
    "#mnist = fetch_mldata('MNIST original')\n",
    "mnist = fetch_openml('mnist_784')"
   ]
  },
  {
   "cell_type": "code",
   "execution_count": 19,
   "metadata": {},
   "outputs": [],
   "source": [
    "X_train, X_test, y_train, y_test = train_test_split(mnist.data, mnist.target, test_size=0.01, stratify=mnist.target)"
   ]
  },
  {
   "cell_type": "code",
   "execution_count": 20,
   "metadata": {},
   "outputs": [],
   "source": [
    "#%time pairwise_distances(X_train.astype(np.float), np.asarray(X_test).astype(np.float))"
   ]
  },
  {
   "cell_type": "code",
   "execution_count": 21,
   "metadata": {},
   "outputs": [],
   "source": [
    "clf = KNeighborsClassifier(n_neighbors=2, algorithm='brute')\n",
    "my_clf = MyKNeighborsClassifier(n_neighbors=2, algorithm='brute')"
   ]
  },
  {
   "cell_type": "code",
   "execution_count": 22,
   "metadata": {},
   "outputs": [
    {
     "name": "stdout",
     "output_type": "stream",
     "text": [
      "CPU times: user 176 ms, sys: 4 ms, total: 180 ms\n",
      "Wall time: 183 ms\n"
     ]
    },
    {
     "data": {
      "text/plain": [
       "KNeighborsClassifier(algorithm='brute', leaf_size=30, metric='minkowski',\n",
       "           metric_params=None, n_jobs=None, n_neighbors=2, p=2,\n",
       "           weights='uniform')"
      ]
     },
     "execution_count": 22,
     "metadata": {},
     "output_type": "execute_result"
    }
   ],
   "source": [
    "%time clf.fit(X_train, y_train)"
   ]
  },
  {
   "cell_type": "code",
   "execution_count": 23,
   "metadata": {},
   "outputs": [
    {
     "name": "stdout",
     "output_type": "stream",
     "text": [
      "CPU times: user 60 ms, sys: 0 ns, total: 60 ms\n",
      "Wall time: 57.8 ms\n"
     ]
    }
   ],
   "source": [
    "%time my_clf.fit(X_train, y_train)"
   ]
  },
  {
   "cell_type": "code",
   "execution_count": 24,
   "metadata": {},
   "outputs": [
    {
     "name": "stdout",
     "output_type": "stream",
     "text": [
      "CPU times: user 4.63 s, sys: 244 ms, total: 4.88 s\n",
      "Wall time: 2.69 s\n"
     ]
    },
    {
     "data": {
      "text/plain": [
       "array(['8', '0', '7', '2', '2', '9', '1', '1', '1', '2', '1', '0', '7',\n",
       "       '3', '5', '4', '7', '2', '9', '7', '1', '3', '8', '1', '0', '0',\n",
       "       '2', '7', '7', '3', '6', '9', '0', '7', '7', '1', '2', '9', '2',\n",
       "       '6', '2', '5', '2', '9', '2', '3', '4', '6', '8', '1', '9', '4',\n",
       "       '1', '9', '0', '2', '6', '7', '3', '9', '3', '0', '1', '8', '5',\n",
       "       '7', '6', '1', '0', '1', '8', '6', '3', '6', '9', '7', '1', '7',\n",
       "       '4', '4', '3', '7', '7', '0', '3', '7', '8', '1', '6', '2', '2',\n",
       "       '4', '8', '9', '7', '1', '9', '6', '6', '5', '1', '8', '0', '7',\n",
       "       '8', '5', '0', '0', '7', '1', '5', '3', '8', '9', '7', '7', '5',\n",
       "       '7', '0', '6', '7', '8', '8', '3', '7', '9', '8', '8', '5', '7',\n",
       "       '0', '2', '4', '7', '2', '9', '3', '2', '4', '5', '6', '3', '4',\n",
       "       '3', '9', '8', '2', '5', '9', '0', '0', '4', '2', '3', '8', '2',\n",
       "       '4', '7', '9', '2', '1', '0', '1', '6', '7', '2', '5', '4', '8',\n",
       "       '3', '9', '6', '3', '1', '2', '6', '6', '6', '5', '2', '2', '1',\n",
       "       '7', '2', '5', '4', '2', '4', '8', '1', '9', '0', '7', '0', '5',\n",
       "       '7', '2', '2', '9', '9', '8', '5', '3', '6', '1', '1', '3', '3',\n",
       "       '9', '7', '3', '8', '6', '9', '6', '3', '1', '1', '9', '0', '2',\n",
       "       '1', '5', '0', '2', '4', '5', '4', '5', '7', '4', '3', '0', '3',\n",
       "       '4', '0', '4', '6', '7', '0', '4', '2', '6', '0', '1', '7', '4',\n",
       "       '6', '7', '1', '2', '6', '5', '1', '5', '1', '1', '1', '5', '9',\n",
       "       '3', '3', '4', '9', '1', '0', '1', '3', '8', '4', '2', '8', '4',\n",
       "       '7', '3', '9', '3', '1', '7', '8', '4', '3', '6', '6', '4', '0',\n",
       "       '3', '3', '0', '6', '4', '3', '3', '1', '2', '0', '6', '6', '4',\n",
       "       '5', '1', '1', '3', '8', '9', '8', '5', '7', '5', '6', '0', '7',\n",
       "       '9', '2', '0', '4', '9', '2', '9', '9', '6', '9', '5', '4', '4',\n",
       "       '9', '8', '5', '3', '7', '5', '4', '6', '6', '8', '9', '6', '3',\n",
       "       '6', '3', '8', '6', '4', '8', '8', '7', '3', '4', '2', '1', '4',\n",
       "       '8', '4', '4', '3', '7', '4', '3', '6', '2', '5', '1', '7', '9',\n",
       "       '4', '4', '3', '5', '1', '6', '3', '0', '5', '4', '6', '4', '0',\n",
       "       '0', '6', '7', '1', '5', '5', '5', '4', '5', '6', '3', '3', '5',\n",
       "       '0', '5', '7', '2', '8', '4', '0', '5', '0', '9', '9', '3', '4',\n",
       "       '1', '7', '9', '8', '8', '0', '5', '6', '1', '4', '3', '8', '1',\n",
       "       '5', '8', '3', '2', '4', '3', '0', '5', '1', '9', '0', '5', '9',\n",
       "       '4', '0', '0', '0', '7', '7', '9', '3', '9', '1', '1', '3', '0',\n",
       "       '7', '4', '9', '1', '4', '5', '0', '9', '2', '5', '0', '9', '7',\n",
       "       '0', '6', '8', '1', '6', '5', '3', '9', '0', '1', '1', '8', '6',\n",
       "       '0', '5', '9', '8', '0', '4', '5', '6', '8', '8', '5', '8', '1',\n",
       "       '4', '2', '3', '4', '5', '2', '3', '2', '7', '7', '7', '7', '3',\n",
       "       '4', '8', '7', '8', '3', '1', '1', '5', '0', '0', '7', '8', '3',\n",
       "       '2', '3', '5', '1', '5', '7', '2', '0', '8', '0', '6', '5', '6',\n",
       "       '7', '3', '8', '6', '1', '9', '1', '2', '2', '2', '6', '4', '7',\n",
       "       '1', '9', '9', '8', '4', '4', '0', '1', '6', '4', '6', '2', '7',\n",
       "       '7', '8', '2', '1', '1', '9', '4', '8', '0', '8', '8', '9', '8',\n",
       "       '2', '1', '9', '4', '3', '1', '9', '0', '7', '5', '3', '5', '7',\n",
       "       '2', '6', '1', '3', '0', '1', '0', '4', '1', '6', '7', '2', '1',\n",
       "       '5', '7', '5', '2', '9', '9', '0', '1', '0', '7', '8', '1', '7',\n",
       "       '2', '3', '0', '6', '0', '7', '7', '9', '0', '2', '6', '7', '3',\n",
       "       '3', '0', '6', '9', '4', '2', '7', '2', '0', '3', '8', '8', '7',\n",
       "       '6', '1', '0', '3', '3', '1', '3', '3', '4', '6', '9', '7', '3',\n",
       "       '5', '6', '8', '3', '0', '4', '2', '4', '2', '2', '2', '9', '9',\n",
       "       '6', '9', '6', '3', '1', '2', '1', '7', '9', '5', '4', '6', '4',\n",
       "       '6', '6', '8', '1', '2', '4', '6', '9', '8', '6', '0', '2', '3',\n",
       "       '4', '3', '1', '9', '3', '5', '4', '5', '1', '1', '0', '5', '6',\n",
       "       '2', '7', '1', '6', '1', '9', '4', '9', '3', '0', '7'],\n",
       "      dtype=object)"
      ]
     },
     "execution_count": 24,
     "metadata": {},
     "output_type": "execute_result"
    }
   ],
   "source": [
    "%time clf.predict(X_test)"
   ]
  },
  {
   "cell_type": "code",
   "execution_count": 25,
   "metadata": {},
   "outputs": [
    {
     "name": "stdout",
     "output_type": "stream",
     "text": [
      "CPU times: user 6.94 s, sys: 272 ms, total: 7.22 s\n",
      "Wall time: 4.79 s\n"
     ]
    },
    {
     "data": {
      "text/plain": [
       "array(['8', '0', '7', '2', '2', '9', '1', '1', '1', '2', '1', '0', '7',\n",
       "       '3', '5', '4', '7', '2', '9', '7', '1', '3', '8', '1', '0', '0',\n",
       "       '2', '7', '7', '3', '6', '9', '0', '7', '7', '1', '2', '9', '2',\n",
       "       '6', '2', '5', '2', '9', '2', '3', '4', '6', '8', '1', '9', '4',\n",
       "       '1', '9', '0', '2', '6', '7', '3', '9', '3', '0', '1', '8', '5',\n",
       "       '7', '6', '1', '0', '1', '8', '6', '3', '6', '9', '7', '1', '7',\n",
       "       '4', '4', '3', '7', '7', '0', '3', '7', '8', '1', '6', '2', '2',\n",
       "       '4', '8', '9', '7', '1', '9', '6', '6', '5', '1', '8', '0', '7',\n",
       "       '8', '5', '0', '0', '7', '1', '5', '3', '8', '9', '7', '7', '5',\n",
       "       '7', '0', '6', '7', '8', '8', '3', '7', '9', '8', '8', '5', '7',\n",
       "       '0', '2', '4', '7', '2', '9', '3', '2', '4', '5', '6', '3', '4',\n",
       "       '3', '9', '8', '2', '5', '9', '0', '0', '4', '2', '3', '8', '2',\n",
       "       '4', '7', '9', '2', '1', '0', '1', '6', '7', '2', '5', '4', '8',\n",
       "       '3', '9', '6', '3', '1', '2', '6', '6', '6', '5', '2', '2', '1',\n",
       "       '7', '2', '5', '4', '2', '4', '8', '1', '9', '0', '7', '0', '5',\n",
       "       '7', '2', '2', '9', '9', '8', '5', '3', '6', '1', '1', '3', '3',\n",
       "       '9', '7', '3', '8', '6', '9', '6', '3', '1', '1', '9', '0', '2',\n",
       "       '1', '5', '0', '2', '4', '5', '4', '5', '7', '4', '3', '0', '3',\n",
       "       '4', '0', '4', '6', '7', '0', '4', '2', '6', '0', '1', '7', '4',\n",
       "       '6', '7', '1', '2', '6', '5', '1', '5', '1', '1', '1', '5', '9',\n",
       "       '3', '3', '4', '9', '1', '0', '1', '3', '8', '4', '2', '8', '4',\n",
       "       '7', '3', '9', '3', '1', '7', '8', '4', '3', '6', '6', '4', '0',\n",
       "       '3', '3', '0', '6', '4', '3', '3', '1', '2', '0', '6', '6', '4',\n",
       "       '5', '1', '1', '3', '8', '9', '8', '5', '7', '5', '6', '0', '7',\n",
       "       '9', '2', '0', '4', '9', '2', '9', '9', '6', '9', '5', '4', '4',\n",
       "       '9', '8', '5', '3', '7', '5', '4', '6', '6', '8', '9', '6', '3',\n",
       "       '6', '3', '8', '6', '4', '8', '8', '7', '3', '4', '2', '1', '4',\n",
       "       '8', '4', '4', '3', '7', '4', '3', '6', '2', '5', '1', '7', '9',\n",
       "       '4', '4', '3', '5', '1', '6', '3', '0', '5', '4', '6', '4', '0',\n",
       "       '0', '6', '7', '1', '5', '5', '5', '4', '5', '6', '3', '3', '5',\n",
       "       '0', '5', '7', '2', '8', '4', '0', '5', '0', '9', '9', '3', '4',\n",
       "       '1', '7', '9', '8', '8', '0', '5', '6', '1', '4', '3', '8', '1',\n",
       "       '5', '8', '3', '2', '4', '3', '0', '5', '1', '9', '0', '5', '9',\n",
       "       '4', '0', '0', '0', '7', '7', '9', '3', '9', '1', '1', '3', '0',\n",
       "       '7', '4', '9', '1', '4', '5', '0', '9', '2', '5', '0', '9', '7',\n",
       "       '0', '6', '8', '1', '6', '5', '3', '9', '0', '1', '1', '8', '6',\n",
       "       '0', '5', '9', '8', '0', '4', '5', '6', '8', '8', '5', '8', '1',\n",
       "       '4', '2', '3', '4', '5', '2', '3', '2', '7', '7', '7', '7', '3',\n",
       "       '4', '8', '7', '8', '3', '1', '1', '5', '0', '0', '7', '8', '3',\n",
       "       '2', '3', '5', '1', '5', '7', '2', '0', '8', '0', '6', '5', '6',\n",
       "       '7', '3', '8', '6', '1', '9', '1', '2', '2', '2', '6', '4', '7',\n",
       "       '1', '9', '9', '8', '4', '4', '0', '1', '6', '4', '6', '2', '7',\n",
       "       '7', '8', '2', '1', '1', '9', '4', '8', '0', '8', '8', '9', '8',\n",
       "       '2', '1', '9', '4', '3', '1', '9', '0', '7', '5', '3', '5', '7',\n",
       "       '2', '6', '1', '3', '0', '1', '0', '4', '1', '6', '7', '2', '1',\n",
       "       '5', '7', '5', '2', '9', '9', '0', '1', '0', '7', '8', '1', '7',\n",
       "       '2', '3', '0', '6', '0', '7', '7', '9', '0', '2', '6', '7', '3',\n",
       "       '3', '0', '6', '9', '4', '2', '7', '2', '0', '3', '8', '8', '7',\n",
       "       '6', '1', '0', '3', '3', '1', '3', '3', '4', '6', '9', '7', '3',\n",
       "       '5', '6', '8', '3', '0', '4', '2', '4', '2', '2', '2', '9', '9',\n",
       "       '6', '9', '6', '3', '1', '2', '1', '7', '9', '5', '4', '6', '4',\n",
       "       '6', '6', '8', '1', '2', '4', '6', '9', '8', '6', '0', '2', '3',\n",
       "       '4', '3', '1', '9', '3', '5', '4', '5', '1', '1', '0', '5', '6',\n",
       "       '2', '7', '1', '6', '1', '9', '4', '9', '3', '0', '7'],\n",
       "      dtype=object)"
      ]
     },
     "execution_count": 25,
     "metadata": {},
     "output_type": "execute_result"
    }
   ],
   "source": [
    "%time my_clf.predict(X_test)"
   ]
  },
  {
   "cell_type": "code",
   "execution_count": 26,
   "metadata": {},
   "outputs": [
    {
     "name": "stdout",
     "output_type": "stream",
     "text": [
      "CPU times: user 4.58 s, sys: 240 ms, total: 4.82 s\n",
      "Wall time: 2.68 s\n"
     ]
    },
    {
     "data": {
      "text/plain": [
       "array([[0., 0., 0., ..., 0., 1., 0.],\n",
       "       [1., 0., 0., ..., 0., 0., 0.],\n",
       "       [0., 0., 0., ..., 1., 0., 0.],\n",
       "       ...,\n",
       "       [0., 0., 0., ..., 0., 0., 0.],\n",
       "       [1., 0., 0., ..., 0., 0., 0.],\n",
       "       [0., 0., 0., ..., 1., 0., 0.]])"
      ]
     },
     "execution_count": 26,
     "metadata": {},
     "output_type": "execute_result"
    }
   ],
   "source": [
    "%time clf.predict_proba(X_test)"
   ]
  },
  {
   "cell_type": "code",
   "execution_count": 27,
   "metadata": {},
   "outputs": [
    {
     "name": "stdout",
     "output_type": "stream",
     "text": [
      "CPU times: user 7.04 s, sys: 236 ms, total: 7.28 s\n",
      "Wall time: 4.83 s\n"
     ]
    },
    {
     "data": {
      "text/plain": [
       "array([[0., 0., 0., ..., 0., 1., 0.],\n",
       "       [1., 0., 0., ..., 0., 0., 0.],\n",
       "       [0., 0., 0., ..., 1., 0., 0.],\n",
       "       ...,\n",
       "       [0., 0., 0., ..., 0., 0., 0.],\n",
       "       [1., 0., 0., ..., 0., 0., 0.],\n",
       "       [0., 0., 0., ..., 1., 0., 0.]])"
      ]
     },
     "execution_count": 27,
     "metadata": {},
     "output_type": "execute_result"
    }
   ],
   "source": [
    "%time my_clf.predict_proba(X_test)"
   ]
  },
  {
   "cell_type": "code",
   "execution_count": 28,
   "metadata": {},
   "outputs": [
    {
     "data": {
      "text/plain": [
       "0.97"
      ]
     },
     "execution_count": 28,
     "metadata": {},
     "output_type": "execute_result"
    }
   ],
   "source": [
    "clf.score(X_test, y_test)"
   ]
  },
  {
   "cell_type": "code",
   "execution_count": 29,
   "metadata": {},
   "outputs": [
    {
     "data": {
      "text/plain": [
       "0.97"
      ]
     },
     "execution_count": 29,
     "metadata": {},
     "output_type": "execute_result"
    }
   ],
   "source": [
    "my_clf.score(X_test, y_test)"
   ]
  },
  {
   "cell_type": "markdown",
   "metadata": {},
   "source": [
    "Задание 4"
   ]
  },
  {
   "cell_type": "code",
   "execution_count": 30,
   "metadata": {},
   "outputs": [],
   "source": [
    "clf = KNeighborsClassifier(n_neighbors=2, algorithm='kd_tree')\n",
    "my_clf = MyKNeighborsClassifier(n_neighbors=2, algorithm='kd_tree')"
   ]
  },
  {
   "cell_type": "code",
   "execution_count": 31,
   "metadata": {},
   "outputs": [],
   "source": [
    "X_train, X_test, y_train, y_test = train_test_split(mnist.data, mnist.target, test_size=0.01, stratify=mnist.target)"
   ]
  },
  {
   "cell_type": "code",
   "execution_count": 32,
   "metadata": {},
   "outputs": [
    {
     "name": "stdout",
     "output_type": "stream",
     "text": [
      "CPU times: user 57.5 s, sys: 104 ms, total: 57.6 s\n",
      "Wall time: 57.5 s\n"
     ]
    },
    {
     "data": {
      "text/plain": [
       "KNeighborsClassifier(algorithm='kd_tree', leaf_size=30, metric='minkowski',\n",
       "           metric_params=None, n_jobs=None, n_neighbors=2, p=2,\n",
       "           weights='uniform')"
      ]
     },
     "execution_count": 32,
     "metadata": {},
     "output_type": "execute_result"
    }
   ],
   "source": [
    "%time clf.fit(X_train, y_train)"
   ]
  },
  {
   "cell_type": "code",
   "execution_count": 33,
   "metadata": {},
   "outputs": [
    {
     "name": "stdout",
     "output_type": "stream",
     "text": [
      "CPU times: user 54.9 s, sys: 248 ms, total: 55.2 s\n",
      "Wall time: 54.9 s\n"
     ]
    }
   ],
   "source": [
    "%time my_clf.fit(X_train, y_train)"
   ]
  },
  {
   "cell_type": "code",
   "execution_count": 34,
   "metadata": {},
   "outputs": [
    {
     "name": "stdout",
     "output_type": "stream",
     "text": [
      "CPU times: user 1min 17s, sys: 4 ms, total: 1min 17s\n",
      "Wall time: 1min 17s\n"
     ]
    },
    {
     "data": {
      "text/plain": [
       "array(['1', '2', '0', '3', '0', '0', '9', '4', '2', '5', '0', '6', '0',\n",
       "       '1', '3', '4', '8', '8', '3', '6', '3', '8', '1', '5', '0', '2',\n",
       "       '1', '9', '0', '8', '1', '3', '8', '0', '0', '7', '0', '0', '0',\n",
       "       '9', '2', '3', '0', '8', '7', '6', '3', '3', '2', '2', '0', '5',\n",
       "       '7', '2', '5', '9', '1', '4', '1', '3', '2', '5', '7', '5', '0',\n",
       "       '1', '2', '8', '1', '0', '5', '1', '2', '8', '7', '8', '1', '8',\n",
       "       '7', '5', '1', '8', '9', '6', '0', '2', '5', '6', '0', '4', '6',\n",
       "       '2', '1', '3', '1', '4', '5', '0', '6', '4', '4', '3', '0', '3',\n",
       "       '0', '9', '2', '9', '6', '3', '9', '6', '4', '3', '0', '4', '9',\n",
       "       '4', '2', '1', '7', '1', '1', '8', '0', '7', '6', '7', '5', '7',\n",
       "       '7', '3', '7', '1', '9', '5', '3', '6', '3', '9', '6', '6', '7',\n",
       "       '8', '2', '4', '2', '4', '8', '9', '4', '4', '4', '6', '6', '5',\n",
       "       '9', '1', '4', '9', '9', '5', '2', '3', '5', '9', '2', '6', '5',\n",
       "       '7', '8', '5', '8', '5', '1', '0', '2', '9', '9', '2', '6', '2',\n",
       "       '5', '0', '3', '2', '9', '3', '9', '0', '5', '5', '9', '6', '4',\n",
       "       '7', '2', '9', '7', '1', '9', '5', '0', '1', '5', '0', '1', '6',\n",
       "       '7', '2', '3', '2', '5', '3', '0', '8', '9', '1', '8', '3', '8',\n",
       "       '7', '5', '5', '9', '7', '6', '8', '2', '6', '1', '7', '4', '0',\n",
       "       '7', '8', '8', '2', '3', '7', '0', '9', '2', '1', '9', '3', '3',\n",
       "       '0', '5', '6', '6', '1', '1', '5', '4', '6', '3', '8', '5', '7',\n",
       "       '3', '1', '4', '6', '1', '9', '2', '8', '2', '3', '1', '1', '0',\n",
       "       '6', '5', '5', '0', '9', '0', '1', '3', '8', '2', '3', '7', '3',\n",
       "       '6', '6', '4', '6', '8', '3', '9', '3', '0', '9', '7', '0', '1',\n",
       "       '3', '9', '3', '8', '4', '1', '8', '8', '0', '7', '4', '1', '5',\n",
       "       '8', '1', '7', '5', '3', '3', '3', '3', '9', '1', '8', '1', '7',\n",
       "       '9', '7', '2', '6', '0', '3', '4', '3', '2', '2', '3', '6', '7',\n",
       "       '4', '1', '7', '5', '5', '4', '4', '2', '0', '6', '6', '0', '3',\n",
       "       '3', '0', '5', '6', '1', '9', '2', '7', '9', '1', '7', '7', '7',\n",
       "       '0', '6', '1', '8', '2', '5', '4', '7', '1', '0', '4', '7', '2',\n",
       "       '1', '7', '4', '5', '0', '8', '2', '2', '6', '5', '4', '5', '3',\n",
       "       '9', '1', '8', '5', '4', '7', '1', '7', '9', '1', '6', '7', '9',\n",
       "       '0', '0', '9', '0', '1', '3', '7', '8', '3', '7', '8', '4', '1',\n",
       "       '2', '3', '2', '9', '5', '9', '1', '9', '2', '7', '3', '0', '4',\n",
       "       '6', '9', '6', '0', '4', '6', '6', '2', '6', '3', '2', '9', '7',\n",
       "       '6', '5', '0', '0', '7', '3', '7', '5', '1', '2', '0', '1', '3',\n",
       "       '6', '7', '0', '6', '6', '3', '1', '6', '5', '9', '6', '2', '4',\n",
       "       '7', '6', '0', '5', '4', '9', '9', '0', '0', '8', '4', '0', '4',\n",
       "       '6', '9', '5', '6', '7', '8', '6', '8', '7', '7', '7', '3', '4',\n",
       "       '2', '9', '8', '0', '6', '5', '4', '1', '6', '1', '1', '1', '4',\n",
       "       '4', '6', '0', '7', '4', '2', '5', '8', '0', '2', '2', '0', '6',\n",
       "       '1', '3', '0', '4', '7', '2', '8', '4', '2', '9', '7', '4', '9',\n",
       "       '7', '2', '9', '8', '1', '0', '4', '3', '9', '6', '4', '2', '3',\n",
       "       '7', '1', '8', '1', '9', '4', '9', '5', '7', '8', '5', '1', '4',\n",
       "       '7', '3', '4', '3', '4', '4', '0', '2', '8', '1', '1', '9', '8',\n",
       "       '3', '1', '4', '9', '1', '7', '2', '3', '8', '4', '4', '1', '5',\n",
       "       '1', '1', '3', '5', '1', '0', '4', '5', '8', '1', '6', '5', '5',\n",
       "       '0', '4', '0', '6', '8', '4', '3', '9', '3', '8', '7', '7', '7',\n",
       "       '8', '6', '6', '2', '9', '2', '7', '4', '2', '8', '7', '8', '4',\n",
       "       '3', '6', '2', '7', '6', '8', '5', '8', '4', '1', '9', '0', '5',\n",
       "       '0', '6', '6', '1', '5', '3', '1', '0', '7', '4', '5', '2', '2',\n",
       "       '6', '8', '3', '8', '3', '1', '9', '5', '4', '5', '8', '7', '9',\n",
       "       '5', '1', '3', '3', '9', '9', '0', '2', '1', '2', '4', '4', '7',\n",
       "       '3', '9', '2', '5', '4', '6', '3', '1', '8', '4', '0', '6', '6',\n",
       "       '8', '1', '2', '7', '8', '4', '3', '8', '9', '2', '1'],\n",
       "      dtype=object)"
      ]
     },
     "execution_count": 34,
     "metadata": {},
     "output_type": "execute_result"
    }
   ],
   "source": [
    "%time clf.predict(X_test)"
   ]
  },
  {
   "cell_type": "code",
   "execution_count": 35,
   "metadata": {},
   "outputs": [
    {
     "name": "stdout",
     "output_type": "stream",
     "text": [
      "CPU times: user 1min 21s, sys: 22 ms, total: 1min 22s\n",
      "Wall time: 1min 22s\n"
     ]
    },
    {
     "data": {
      "text/plain": [
       "array(['1', '2', '0', '3', '0', '0', '9', '4', '2', '5', '0', '6', '0',\n",
       "       '1', '3', '4', '8', '8', '3', '6', '3', '8', '1', '5', '0', '2',\n",
       "       '1', '9', '0', '8', '1', '3', '8', '0', '0', '7', '0', '0', '0',\n",
       "       '9', '2', '3', '0', '8', '7', '6', '3', '3', '2', '2', '0', '5',\n",
       "       '7', '2', '5', '9', '1', '4', '1', '3', '2', '5', '7', '5', '0',\n",
       "       '1', '2', '8', '1', '0', '5', '1', '2', '8', '7', '8', '1', '8',\n",
       "       '7', '5', '1', '8', '9', '6', '0', '2', '5', '6', '0', '4', '6',\n",
       "       '2', '1', '3', '1', '4', '5', '0', '6', '4', '4', '3', '0', '3',\n",
       "       '0', '9', '2', '9', '6', '3', '9', '6', '4', '3', '0', '4', '9',\n",
       "       '4', '2', '1', '7', '1', '1', '8', '0', '7', '6', '7', '5', '7',\n",
       "       '7', '3', '7', '1', '9', '5', '3', '6', '3', '9', '6', '6', '7',\n",
       "       '8', '2', '4', '2', '4', '8', '9', '4', '4', '4', '6', '6', '5',\n",
       "       '9', '1', '4', '9', '9', '5', '2', '3', '5', '9', '2', '6', '5',\n",
       "       '7', '8', '5', '8', '5', '1', '0', '2', '9', '9', '2', '6', '2',\n",
       "       '5', '0', '3', '2', '9', '3', '9', '0', '5', '5', '9', '6', '4',\n",
       "       '7', '2', '9', '7', '1', '9', '5', '0', '1', '5', '0', '1', '6',\n",
       "       '7', '2', '3', '2', '5', '3', '0', '8', '9', '1', '8', '3', '8',\n",
       "       '7', '5', '5', '9', '7', '6', '8', '2', '6', '1', '7', '4', '0',\n",
       "       '7', '8', '8', '2', '3', '7', '0', '9', '2', '1', '9', '3', '3',\n",
       "       '0', '5', '6', '6', '1', '1', '5', '4', '6', '3', '8', '5', '7',\n",
       "       '3', '1', '4', '6', '1', '9', '2', '8', '2', '3', '1', '1', '0',\n",
       "       '6', '5', '5', '0', '9', '0', '1', '3', '8', '2', '3', '7', '3',\n",
       "       '6', '6', '4', '6', '8', '3', '9', '3', '0', '9', '7', '0', '1',\n",
       "       '3', '9', '3', '8', '4', '1', '8', '8', '0', '7', '4', '1', '5',\n",
       "       '8', '1', '7', '5', '3', '3', '3', '3', '9', '1', '8', '1', '7',\n",
       "       '9', '7', '2', '6', '0', '3', '4', '3', '2', '2', '3', '6', '7',\n",
       "       '4', '1', '7', '5', '5', '4', '4', '2', '0', '6', '6', '0', '3',\n",
       "       '3', '0', '5', '6', '1', '9', '2', '7', '9', '1', '7', '7', '7',\n",
       "       '0', '6', '1', '8', '2', '5', '4', '7', '1', '0', '4', '7', '2',\n",
       "       '1', '7', '4', '5', '0', '8', '2', '2', '6', '5', '4', '5', '3',\n",
       "       '9', '1', '8', '5', '4', '7', '1', '7', '9', '1', '6', '7', '9',\n",
       "       '0', '0', '9', '0', '1', '3', '7', '8', '3', '7', '8', '4', '1',\n",
       "       '2', '3', '2', '9', '5', '9', '1', '9', '2', '7', '3', '0', '4',\n",
       "       '6', '9', '6', '0', '4', '6', '6', '2', '6', '3', '2', '9', '7',\n",
       "       '6', '5', '0', '0', '7', '3', '7', '5', '1', '2', '0', '1', '3',\n",
       "       '6', '7', '0', '6', '6', '3', '1', '6', '5', '9', '6', '2', '4',\n",
       "       '7', '6', '0', '5', '4', '9', '9', '0', '0', '8', '4', '0', '4',\n",
       "       '6', '9', '5', '6', '7', '8', '6', '8', '7', '7', '7', '3', '4',\n",
       "       '2', '9', '8', '0', '6', '5', '4', '1', '6', '1', '1', '1', '4',\n",
       "       '4', '6', '0', '7', '4', '2', '5', '8', '0', '2', '2', '0', '6',\n",
       "       '1', '3', '0', '4', '7', '2', '8', '4', '2', '9', '7', '4', '9',\n",
       "       '7', '2', '9', '8', '1', '0', '4', '3', '9', '6', '4', '2', '3',\n",
       "       '7', '1', '8', '1', '9', '4', '9', '5', '7', '8', '5', '1', '4',\n",
       "       '7', '3', '4', '3', '4', '4', '0', '2', '8', '1', '1', '9', '8',\n",
       "       '3', '1', '4', '9', '1', '7', '2', '3', '8', '4', '4', '1', '5',\n",
       "       '1', '1', '3', '5', '1', '0', '4', '5', '8', '1', '6', '5', '5',\n",
       "       '0', '4', '0', '6', '8', '4', '3', '9', '3', '8', '7', '7', '7',\n",
       "       '8', '6', '6', '2', '9', '2', '7', '4', '2', '8', '7', '8', '4',\n",
       "       '3', '6', '2', '7', '6', '8', '5', '8', '4', '1', '9', '0', '5',\n",
       "       '0', '6', '6', '1', '5', '3', '1', '0', '7', '4', '5', '2', '2',\n",
       "       '6', '8', '3', '8', '3', '1', '9', '5', '4', '5', '8', '7', '9',\n",
       "       '5', '1', '3', '3', '9', '9', '0', '2', '1', '2', '4', '4', '7',\n",
       "       '3', '9', '2', '5', '4', '6', '3', '1', '8', '4', '0', '6', '6',\n",
       "       '8', '1', '2', '7', '8', '4', '3', '8', '9', '2', '1'],\n",
       "      dtype=object)"
      ]
     },
     "execution_count": 35,
     "metadata": {},
     "output_type": "execute_result"
    }
   ],
   "source": [
    "%time my_clf.predict(X_test)"
   ]
  },
  {
   "cell_type": "code",
   "execution_count": 36,
   "metadata": {},
   "outputs": [
    {
     "name": "stdout",
     "output_type": "stream",
     "text": [
      "CPU times: user 1min 17s, sys: 16 ms, total: 1min 17s\n",
      "Wall time: 1min 18s\n"
     ]
    },
    {
     "data": {
      "text/plain": [
       "array([[0., 1., 0., ..., 0., 0., 0.],\n",
       "       [0., 0., 1., ..., 0., 0., 0.],\n",
       "       [1., 0., 0., ..., 0., 0., 0.],\n",
       "       ...,\n",
       "       [0., 0., 0., ..., 0., 0., 1.],\n",
       "       [0., 0., 1., ..., 0., 0., 0.],\n",
       "       [0., 1., 0., ..., 0., 0., 0.]])"
      ]
     },
     "execution_count": 36,
     "metadata": {},
     "output_type": "execute_result"
    }
   ],
   "source": [
    "%time clf.predict_proba(X_test)"
   ]
  },
  {
   "cell_type": "code",
   "execution_count": 37,
   "metadata": {},
   "outputs": [
    {
     "name": "stdout",
     "output_type": "stream",
     "text": [
      "CPU times: user 1min 22s, sys: 32 ms, total: 1min 22s\n",
      "Wall time: 1min 23s\n"
     ]
    },
    {
     "data": {
      "text/plain": [
       "array([[0., 1., 0., ..., 0., 0., 0.],\n",
       "       [0., 0., 1., ..., 0., 0., 0.],\n",
       "       [1., 0., 0., ..., 0., 0., 0.],\n",
       "       ...,\n",
       "       [0., 0., 0., ..., 0., 0., 1.],\n",
       "       [0., 0., 1., ..., 0., 0., 0.],\n",
       "       [0., 1., 0., ..., 0., 0., 0.]])"
      ]
     },
     "execution_count": 37,
     "metadata": {},
     "output_type": "execute_result"
    }
   ],
   "source": [
    "%time my_clf.predict_proba(X_test)"
   ]
  },
  {
   "cell_type": "code",
   "execution_count": 38,
   "metadata": {},
   "outputs": [
    {
     "data": {
      "text/plain": [
       "0.97"
      ]
     },
     "execution_count": 38,
     "metadata": {},
     "output_type": "execute_result"
    }
   ],
   "source": [
    "clf.score(X_test, y_test)"
   ]
  },
  {
   "cell_type": "code",
   "execution_count": 39,
   "metadata": {},
   "outputs": [
    {
     "data": {
      "text/plain": [
       "0.97"
      ]
     },
     "execution_count": 39,
     "metadata": {},
     "output_type": "execute_result"
    }
   ],
   "source": [
    "my_clf.score(X_test, y_test)"
   ]
  },
  {
   "cell_type": "code",
   "execution_count": 40,
   "metadata": {},
   "outputs": [],
   "source": [
    "#X_test[0]"
   ]
  },
  {
   "cell_type": "markdown",
   "metadata": {},
   "source": [
    "Задание 5"
   ]
  },
  {
   "cell_type": "code",
   "execution_count": 41,
   "metadata": {},
   "outputs": [],
   "source": [
    "# seaborn - библиотека, основанная на matplotlib, удобно использовать из-за хороших дефолтных настроек\n",
    "# matplotlib - Визуализация данных, построение графиков и диаграмм\n",
    "# train_test_split разделение выборки на обучающую и тестовую\n",
    "# Pipelin%load_ext e (from sklearn.pipeline import Pipeline) нужен для реализации конвейера: \n",
    "# на вход функции подаётся выход другой функции ...  Удобно для реализации процедуры обработки данных, состоящей из нескольких этапов\n",
    "#\n",
    "# StandardScaler (from sklearn.preprocessing import StandardScaler) Нормализация выборки. Вычитает из значений выборки среднее и нормирует её, чтобы стандартное отклонение было <=1\n",
    "# ClassifierMixin базовый класс классификаторов в sklearn\n",
    "# NeighborsBase базовый класс классификаторов в sklearn для \"искалок\" ближайших соседей.\n",
    "# KNeighborsMixin базовый класс классификаторов в sklearn для всех классов KNN классификаторов, cодержащих поиск ближайших соседей\n",
    "# SupervisedIntegerMixin базовый класс классификаторов в sklearn, содержащий метод fit"
   ]
  }
 ],
 "metadata": {
  "kernelspec": {
   "display_name": "Python 3",
   "language": "python",
   "name": "python3"
  },
  "language_info": {
   "codemirror_mode": {
    "name": "ipython",
    "version": 3
   },
   "file_extension": ".py",
   "mimetype": "text/x-python",
   "name": "python",
   "nbconvert_exporter": "python",
   "pygments_lexer": "ipython3",
   "version": "3.7.1"
  }
 },
 "nbformat": 4,
 "nbformat_minor": 2
}
